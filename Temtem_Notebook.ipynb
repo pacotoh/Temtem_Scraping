{
 "cells": [
  {
   "cell_type": "code",
   "execution_count": 28,
   "metadata": {},
   "outputs": [],
   "source": [
    "#Temtem scraper\n",
    "from bs4 import BeautifulSoup\n",
    "import sys\n",
    "import pandas as pd\n",
    "import requests\n",
    "import re\n",
    "import numpy as np\n",
    "\n",
    "# URL GET Request\n",
    "main_page = 'https://temtem.gamepedia.com'\n",
    "species = '/Temtem_Species'\n",
    "http_regex = re.compile('http*')"
   ]
  },
  {
   "cell_type": "code",
   "execution_count": 29,
   "metadata": {},
   "outputs": [],
   "source": [
    "def get_request(main_page, tail):\n",
    "    \"\"\"Returns a bs with the content of the page\"\"\"\n",
    "    rp = requests.get(main_page + tail)\n",
    "    # BeautifulSoup content generation\n",
    "    return BeautifulSoup(rp.content, 'html.parser')\n",
    "\n",
    "def get_header(all_tr):\n",
    "    \"\"\"Returns the header of the tr list parameter\"\"\"\n",
    "    stats_list = all_tr[1].findAll('th')    \n",
    "    name = ['Number','Name']\n",
    "    header = [i.get_text() for i in stats_list]\n",
    "    # header modification to clarify the name of the columns\n",
    "    header[0] = 'Type_1'\n",
    "    header[1] = 'Type_2'\n",
    "    header[-1] = 'Total' # The last column is the Sum of the stats\n",
    "    name.extend(header)\n",
    "    return name\n",
    "\n",
    "def get_all_stats(all_tr, header):\n",
    "    \"\"\"Returns the stats of the Temtems\"\"\"\n",
    "    lheader = len(header)\n",
    "    temtems = all_tr[2:]\n",
    "    dict_tem = {}\n",
    "    for tm in temtems:\n",
    "        stats = [i.get_text().rstrip() for i in tm.findAll('td')]\n",
    "        if len(stats) < lheader:\n",
    "            stats.insert(3, None)\n",
    "        dict_tem[str(stats[0])] = stats\n",
    "    return dict_tem\n",
    "\n",
    "def get_dataframe(header, dict_temtems):\n",
    "    \"\"\"Returns a dataframe with the Temtems data in dict_temtems\"\"\"\n",
    "    df_tm = pd.DataFrame(dict_temtems.values())\n",
    "    df = df_tm.set_index(df_tm[0])\n",
    "    df.drop(columns= [0], inplace=True)\n",
    "    df.columns = header[1:]\n",
    "    return df\n",
    "\n",
    "def get_dict_traits(df):\n",
    "    \"\"\"Returns the dataframe with the traits lists inserted as a column\"\"\"\n",
    "    name_list = [i.strip() for i in df.Name.to_list()]\n",
    "    dict_traits = {}\n",
    "    for name in name_list:\n",
    "        table = get_request(main_page,  '/' + name).find('table', {'class':'infobox-table'})\n",
    "        values = table.findAll('a')\n",
    "        lsval = [v.string for v in values if str(v.string) \n",
    "        not in ['None', '⮜', '⮞', 'FreeTem!'] \n",
    "        and not http_regex.findall(str(v.string)) \n",
    "        and str(v.string) not in name_list]\n",
    "        dict_traits[name] = lsval\n",
    "    df['traits'] = list(dict_traits.values())\n",
    "    return df"
   ]
  },
  {
   "cell_type": "code",
   "execution_count": 30,
   "metadata": {},
   "outputs": [
    {
     "name": "stdout",
     "output_type": "stream",
     "text": [
      "           Name   Type_1 Type_2  HP STA SPD ATK  DEF SPATK SPDEF Total  \\\n",
      "0                                                                        \n",
      "2          Oree  Digital   None  61  74  35  65   44    32    31   342   \n",
      "3       Zaobian  Digital   None  75  90  51  84   50    42    44   436   \n",
      "7      Platypet    Water  Toxic  55  39  65  45   31    67    56   358   \n",
      "8        Platox    Water  Toxic  62  44  74  50   35    76    63   404   \n",
      "9     Platimous    Water  Toxic  71  49  82  56   39    90    70   457   \n",
      "..          ...      ...    ...  ..  ..  ..  ..  ...   ...   ...   ...   \n",
      "138      Vulvir     Fire  Earth  59  54  57  47   64    47    31   359   \n",
      "139       Vulor     Fire  Earth  65  59  63  49   71    49    32   388   \n",
      "140    Vulcrane     Fire  Earth  76  65  73  74   86    64    35   473   \n",
      "141     Pigepic     Wind   None  54  72  58  60   72    45    72   433   \n",
      "161      Anahir  Crystal   Fire  54  36  31  50  101    50   101   423   \n",
      "\n",
      "                          traits  \n",
      "0                                 \n",
      "2                     [Attack T]  \n",
      "3                     [Attack T]  \n",
      "7    [Toxic Affinity, Amphibian]  \n",
      "8         [Resistant, Resilient]  \n",
      "9              [Zen, Determined]  \n",
      "..                           ...  \n",
      "138   [Camaraderie, Caffeinated]  \n",
      "139  [Pyromaniac, Individualist]  \n",
      "140        [Receptive, Vigorous]  \n",
      "141  [Friendship, Fainted Curse]  \n",
      "161     [Trauma, Flawed Crystal]  \n",
      "\n",
      "[86 rows x 12 columns]\n"
     ]
    }
   ],
   "source": [
    "soup = get_request(main_page, species)\n",
    "\n",
    "# Extracting the table\n",
    "temtem_table = soup.findAll('table')[1]\n",
    "all_tr = temtem_table.findAll('tr')\n",
    "\n",
    "# Dataframe creation with header and data\n",
    "header = get_header(all_tr)\n",
    "dict_temtems = get_all_stats(all_tr, header)\n",
    "df_tm = get_dataframe(header, dict_temtems)\n",
    "\n",
    "df_traits = get_dict_traits(df_tm)\n",
    "\n",
    "print(df_traits)"
   ]
  },
  {
   "cell_type": "code",
   "execution_count": 31,
   "metadata": {},
   "outputs": [
    {
     "data": {
      "text/plain": [
       "0\n",
       "2                       [Attack T]\n",
       "3                       [Attack T]\n",
       "7      [Toxic Affinity, Amphibian]\n",
       "8           [Resistant, Resilient]\n",
       "9                [Zen, Determined]\n",
       "                  ...             \n",
       "138     [Camaraderie, Caffeinated]\n",
       "139    [Pyromaniac, Individualist]\n",
       "140          [Receptive, Vigorous]\n",
       "141    [Friendship, Fainted Curse]\n",
       "161       [Trauma, Flawed Crystal]\n",
       "Name: traits, Length: 86, dtype: object"
      ]
     },
     "execution_count": 31,
     "metadata": {},
     "output_type": "execute_result"
    }
   ],
   "source": [
    "df_traits['traits']"
   ]
  },
  {
   "cell_type": "code",
   "execution_count": null,
   "metadata": {},
   "outputs": [],
   "source": []
  }
 ],
 "metadata": {
  "kernelspec": {
   "display_name": "Python 3",
   "language": "python",
   "name": "python3"
  },
  "language_info": {
   "codemirror_mode": {
    "name": "ipython",
    "version": 3
   },
   "file_extension": ".py",
   "mimetype": "text/x-python",
   "name": "python",
   "nbconvert_exporter": "python",
   "pygments_lexer": "ipython3",
   "version": "3.7.4"
  }
 },
 "nbformat": 4,
 "nbformat_minor": 2
}
