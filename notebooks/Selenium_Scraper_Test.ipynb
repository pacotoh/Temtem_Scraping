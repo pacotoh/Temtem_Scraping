{
 "cells": [
  {
   "cell_type": "code",
   "execution_count": 3,
   "metadata": {},
   "outputs": [],
   "source": [
    "from bs4 import BeautifulSoup\n",
    "import sys\n",
    "import pandas as pd\n",
    "import requests\n",
    "import re\n",
    "import numpy as np\n",
    "from selenium import webdriver\n",
    "\n",
    "\n",
    "tier_page = 'https://temtactics.gg/tierlist'"
   ]
  },
  {
   "cell_type": "code",
   "execution_count": 5,
   "metadata": {},
   "outputs": [],
   "source": [
    "driver = webdriver.Firefox()\n",
    "driver.get(tier_page)\n",
    "html = driver.execute_script('return document.documentElement.outerHTML')\n",
    "sel_soup = BeautifulSoup(html, 'html.parser')\n",
    "tier_lists = sel_soup.findAll('div', {'class': 'tier-list'})[0]\n",
    "driver.close()"
   ]
  },
  {
   "cell_type": "code",
   "execution_count": 58,
   "metadata": {},
   "outputs": [
    {
     "data": {
      "text/plain": [
       "['S', 'A', 'B', 'C', 'D', '?']"
      ]
     },
     "execution_count": 58,
     "metadata": {},
     "output_type": "execute_result"
    }
   ],
   "source": [
    "tiers_category = [i.text for i in tier_lists.findAll('div', {'class': 'tier-category'})]\n",
    "tiers_category"
   ]
  },
  {
   "cell_type": "code",
   "execution_count": 16,
   "metadata": {},
   "outputs": [
    {
     "data": {
      "text/plain": [
       "['#049SakuNature·Wind#054GyalisCrystal·Melee#110VolarendToxic·Wind#133TuvineWind·Crystal#141PigepicWind',\n",
       " '#050ValashNeutral·Crystal#053BarnsheMental·Wind#058RaizeFire#089UkamaWater#115OcearaWater#137KinuNature·Mental#161AnahirCrystal·Fire',\n",
       " '#009PlatimousWater·Toxic#022MudridEarth·Crystal#028SkunchNeutral·Melee#038CapyreFire#059RaicanFire#069SaipatWater·Melee#093BaboongMelee#114GazumaElectric·Wind#140VulcraneFire·Earth',\n",
       " '#011LoaliNature·Wind#018GranpahWind#026WiplumpWater·Wind#033TentalMental#036NidrasilNature·Toxic#041ZenorethCrystal#056MyxCrystal·Mental#087MastioneFire#104CerneafNature#108GoolderToxic#122ShuineCrystal·Water#128KalabyssWater·Toxic',\n",
       " '#012TateruNeutral#024TaifuNature#045BabawaNature·Water#061PiraniantWater#073SheraldCrystal#085MushookToxic·Melee#106NoxolotlToxic#123NesslaWater·Electric#129AdoroborosToxic·Mental',\n",
       " '#003ZaobianDigital#080PocusMental#082SparzyElectric']"
      ]
     },
     "execution_count": 16,
     "metadata": {},
     "output_type": "execute_result"
    }
   ],
   "source": [
    "[i.text for i in tier_lists.findAll('div', {'class': 'character-list'})]"
   ]
  },
  {
   "cell_type": "code",
   "execution_count": 32,
   "metadata": {
    "collapsed": true
   },
   "outputs": [
    {
     "name": "stdout",
     "output_type": "stream",
     "text": [
      "[<h2 class=\"character-name\">Saku</h2>, <h2 class=\"character-name\">Gyalis</h2>, <h2 class=\"character-name\">Volarend</h2>, <h2 class=\"character-name\">Tuvine</h2>, <h2 class=\"character-name\">Pigepic</h2>]\n",
      "[<h2 class=\"character-name\">Valash</h2>, <h2 class=\"character-name\">Barnshe</h2>, <h2 class=\"character-name\">Raize</h2>, <h2 class=\"character-name\">Ukama</h2>, <h2 class=\"character-name\">Oceara</h2>, <h2 class=\"character-name\">Kinu</h2>, <h2 class=\"character-name\">Anahir</h2>]\n",
      "[<h2 class=\"character-name\">Platimous</h2>, <h2 class=\"character-name\">Mudrid</h2>, <h2 class=\"character-name\">Skunch</h2>, <h2 class=\"character-name\">Capyre</h2>, <h2 class=\"character-name\">Raican</h2>, <h2 class=\"character-name\">Saipat</h2>, <h2 class=\"character-name\">Baboong</h2>, <h2 class=\"character-name\">Gazuma</h2>, <h2 class=\"character-name\">Vulcrane</h2>]\n",
      "[<h2 class=\"character-name\">Loali</h2>, <h2 class=\"character-name\">Granpah</h2>, <h2 class=\"character-name\">Wiplump</h2>, <h2 class=\"character-name\">Tental</h2>, <h2 class=\"character-name\">Nidrasil</h2>, <h2 class=\"character-name\">Zenoreth</h2>, <h2 class=\"character-name\">Myx</h2>, <h2 class=\"character-name\">Mastione</h2>, <h2 class=\"character-name\">Cerneaf</h2>, <h2 class=\"character-name\">Goolder</h2>, <h2 class=\"character-name\">Shuine</h2>, <h2 class=\"character-name\">Kalabyss</h2>]\n",
      "[<h2 class=\"character-name\">Tateru</h2>, <h2 class=\"character-name\">Taifu</h2>, <h2 class=\"character-name\">Babawa</h2>, <h2 class=\"character-name\">Piraniant</h2>, <h2 class=\"character-name\">Sherald</h2>, <h2 class=\"character-name\">Mushook</h2>, <h2 class=\"character-name\">Noxolotl</h2>, <h2 class=\"character-name\">Nessla</h2>, <h2 class=\"character-name\">Adoroboros</h2>]\n",
      "[<h2 class=\"character-name\">Zaobian</h2>, <h2 class=\"character-name\">Pocus</h2>, <h2 class=\"character-name\">Sparzy</h2>]\n"
     ]
    }
   ],
   "source": [
    "for i in tier_lists.contents:\n",
    "    print(i.contents[1].findAll('h2'))"
   ]
  },
  {
   "cell_type": "code",
   "execution_count": 49,
   "metadata": {},
   "outputs": [
    {
     "data": {
      "text/plain": [
       "[5, 7, 9, 12, 9, 3]"
      ]
     },
     "execution_count": 49,
     "metadata": {},
     "output_type": "execute_result"
    }
   ],
   "source": [
    "ll_tiers = [i.contents[1].findAll('h2') for i in tier_lists.contents]\n",
    "tiers_len = [len(i) for i in ll_tiers]\n",
    "tiers_len"
   ]
  },
  {
   "cell_type": "code",
   "execution_count": 56,
   "metadata": {},
   "outputs": [],
   "source": [
    "all_tems = []\n",
    "for i in ll_tiers:\n",
    "    for j in i:\n",
    "        all_tems.append(j.text)"
   ]
  },
  {
   "cell_type": "code",
   "execution_count": 57,
   "metadata": {
    "scrolled": true
   },
   "outputs": [
    {
     "data": {
      "text/plain": [
       "['Saku',\n",
       " 'Gyalis',\n",
       " 'Volarend',\n",
       " 'Tuvine',\n",
       " 'Pigepic',\n",
       " 'Valash',\n",
       " 'Barnshe',\n",
       " 'Raize',\n",
       " 'Ukama',\n",
       " 'Oceara',\n",
       " 'Kinu',\n",
       " 'Anahir',\n",
       " 'Platimous',\n",
       " 'Mudrid',\n",
       " 'Skunch',\n",
       " 'Capyre',\n",
       " 'Raican',\n",
       " 'Saipat',\n",
       " 'Baboong',\n",
       " 'Gazuma',\n",
       " 'Vulcrane',\n",
       " 'Loali',\n",
       " 'Granpah',\n",
       " 'Wiplump',\n",
       " 'Tental',\n",
       " 'Nidrasil',\n",
       " 'Zenoreth',\n",
       " 'Myx',\n",
       " 'Mastione',\n",
       " 'Cerneaf',\n",
       " 'Goolder',\n",
       " 'Shuine',\n",
       " 'Kalabyss',\n",
       " 'Tateru',\n",
       " 'Taifu',\n",
       " 'Babawa',\n",
       " 'Piraniant',\n",
       " 'Sherald',\n",
       " 'Mushook',\n",
       " 'Noxolotl',\n",
       " 'Nessla',\n",
       " 'Adoroboros',\n",
       " 'Zaobian',\n",
       " 'Pocus',\n",
       " 'Sparzy']"
      ]
     },
     "execution_count": 57,
     "metadata": {},
     "output_type": "execute_result"
    }
   ],
   "source": [
    "all_tems"
   ]
  },
  {
   "cell_type": "code",
   "execution_count": 68,
   "metadata": {},
   "outputs": [
    {
     "name": "stdout",
     "output_type": "stream",
     "text": [
      "counter:0\n",
      "index:0\n",
      "category: S\n",
      "['Saku', 'Gyalis', 'Volarend', 'Tuvine', 'Pigepic']\n",
      "counter:1\n",
      "index:5\n",
      "category: A\n",
      "['Valash', 'Barnshe', 'Raize', 'Ukama', 'Oceara', 'Kinu', 'Anahir']\n",
      "counter:2\n",
      "index:12\n",
      "category: B\n",
      "['Platimous', 'Mudrid', 'Skunch', 'Capyre', 'Raican', 'Saipat', 'Baboong', 'Gazuma', 'Vulcrane']\n",
      "counter:3\n",
      "index:21\n",
      "category: C\n",
      "['Loali', 'Granpah', 'Wiplump', 'Tental', 'Nidrasil', 'Zenoreth', 'Myx', 'Mastione', 'Cerneaf', 'Goolder', 'Shuine', 'Kalabyss']\n",
      "counter:4\n",
      "index:33\n",
      "category: D\n",
      "['Tateru', 'Taifu', 'Babawa', 'Piraniant', 'Sherald', 'Mushook', 'Noxolotl', 'Nessla', 'Adoroboros']\n",
      "counter:5\n",
      "index:42\n",
      "category: ?\n",
      "['Zaobian', 'Pocus', 'Sparzy']\n"
     ]
    }
   ],
   "source": [
    "dict_tiers = {}\n",
    "counter = 0\n",
    "index = 0\n",
    "\n",
    "for category in tiers_category:\n",
    "    dict_tiers[category] = all_tems[index:index + tiers_len[counter]]\n",
    "    index = index + tiers_len[counter]\n",
    "    counter = counter + 1\n"
   ]
  },
  {
   "cell_type": "code",
   "execution_count": 69,
   "metadata": {},
   "outputs": [
    {
     "data": {
      "text/plain": [
       "{'S': ['Saku', 'Gyalis', 'Volarend', 'Tuvine', 'Pigepic'],\n",
       " 'A': ['Valash', 'Barnshe', 'Raize', 'Ukama', 'Oceara', 'Kinu', 'Anahir'],\n",
       " 'B': ['Platimous',\n",
       "  'Mudrid',\n",
       "  'Skunch',\n",
       "  'Capyre',\n",
       "  'Raican',\n",
       "  'Saipat',\n",
       "  'Baboong',\n",
       "  'Gazuma',\n",
       "  'Vulcrane'],\n",
       " 'C': ['Loali',\n",
       "  'Granpah',\n",
       "  'Wiplump',\n",
       "  'Tental',\n",
       "  'Nidrasil',\n",
       "  'Zenoreth',\n",
       "  'Myx',\n",
       "  'Mastione',\n",
       "  'Cerneaf',\n",
       "  'Goolder',\n",
       "  'Shuine',\n",
       "  'Kalabyss'],\n",
       " 'D': ['Tateru',\n",
       "  'Taifu',\n",
       "  'Babawa',\n",
       "  'Piraniant',\n",
       "  'Sherald',\n",
       "  'Mushook',\n",
       "  'Noxolotl',\n",
       "  'Nessla',\n",
       "  'Adoroboros'],\n",
       " '?': ['Zaobian', 'Pocus', 'Sparzy']}"
      ]
     },
     "execution_count": 69,
     "metadata": {},
     "output_type": "execute_result"
    }
   ],
   "source": [
    "dict_tiers"
   ]
  },
  {
   "cell_type": "code",
   "execution_count": 70,
   "metadata": {},
   "outputs": [
    {
     "data": {
      "text/plain": [
       "[[<h2 class=\"character-name\">Saku</h2>,\n",
       "  <h2 class=\"character-name\">Gyalis</h2>,\n",
       "  <h2 class=\"character-name\">Volarend</h2>,\n",
       "  <h2 class=\"character-name\">Tuvine</h2>,\n",
       "  <h2 class=\"character-name\">Pigepic</h2>],\n",
       " [<h2 class=\"character-name\">Valash</h2>,\n",
       "  <h2 class=\"character-name\">Barnshe</h2>,\n",
       "  <h2 class=\"character-name\">Raize</h2>,\n",
       "  <h2 class=\"character-name\">Ukama</h2>,\n",
       "  <h2 class=\"character-name\">Oceara</h2>,\n",
       "  <h2 class=\"character-name\">Kinu</h2>,\n",
       "  <h2 class=\"character-name\">Anahir</h2>],\n",
       " [<h2 class=\"character-name\">Platimous</h2>,\n",
       "  <h2 class=\"character-name\">Mudrid</h2>,\n",
       "  <h2 class=\"character-name\">Skunch</h2>,\n",
       "  <h2 class=\"character-name\">Capyre</h2>,\n",
       "  <h2 class=\"character-name\">Raican</h2>,\n",
       "  <h2 class=\"character-name\">Saipat</h2>,\n",
       "  <h2 class=\"character-name\">Baboong</h2>,\n",
       "  <h2 class=\"character-name\">Gazuma</h2>,\n",
       "  <h2 class=\"character-name\">Vulcrane</h2>],\n",
       " [<h2 class=\"character-name\">Loali</h2>,\n",
       "  <h2 class=\"character-name\">Granpah</h2>,\n",
       "  <h2 class=\"character-name\">Wiplump</h2>,\n",
       "  <h2 class=\"character-name\">Tental</h2>,\n",
       "  <h2 class=\"character-name\">Nidrasil</h2>,\n",
       "  <h2 class=\"character-name\">Zenoreth</h2>,\n",
       "  <h2 class=\"character-name\">Myx</h2>,\n",
       "  <h2 class=\"character-name\">Mastione</h2>,\n",
       "  <h2 class=\"character-name\">Cerneaf</h2>,\n",
       "  <h2 class=\"character-name\">Goolder</h2>,\n",
       "  <h2 class=\"character-name\">Shuine</h2>,\n",
       "  <h2 class=\"character-name\">Kalabyss</h2>],\n",
       " [<h2 class=\"character-name\">Tateru</h2>,\n",
       "  <h2 class=\"character-name\">Taifu</h2>,\n",
       "  <h2 class=\"character-name\">Babawa</h2>,\n",
       "  <h2 class=\"character-name\">Piraniant</h2>,\n",
       "  <h2 class=\"character-name\">Sherald</h2>,\n",
       "  <h2 class=\"character-name\">Mushook</h2>,\n",
       "  <h2 class=\"character-name\">Noxolotl</h2>,\n",
       "  <h2 class=\"character-name\">Nessla</h2>,\n",
       "  <h2 class=\"character-name\">Adoroboros</h2>],\n",
       " [<h2 class=\"character-name\">Zaobian</h2>,\n",
       "  <h2 class=\"character-name\">Pocus</h2>,\n",
       "  <h2 class=\"character-name\">Sparzy</h2>]]"
      ]
     },
     "execution_count": 70,
     "metadata": {},
     "output_type": "execute_result"
    }
   ],
   "source": [
    "ll_tiers"
   ]
  }
 ],
 "metadata": {
  "kernelspec": {
   "display_name": "Python 3",
   "language": "python",
   "name": "python3"
  },
  "language_info": {
   "codemirror_mode": {
    "name": "ipython",
    "version": 3
   },
   "file_extension": ".py",
   "mimetype": "text/x-python",
   "name": "python",
   "nbconvert_exporter": "python",
   "pygments_lexer": "ipython3",
   "version": "3.7.4"
  }
 },
 "nbformat": 4,
 "nbformat_minor": 2
}
